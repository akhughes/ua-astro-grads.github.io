{
 "cells": [
  {
   "cell_type": "markdown",
   "metadata": {},
   "source": [
    "# Using joblib to cache slow computations (for science)\n",
    "\n",
    "If you'll indulge some CS jargon, I want to talk a little bit about **pure functions** and **memoization**.\n",
    "\n",
    "**Pure functions** are functions where, if I provide the same inputs, I always get the same outputs (and there are no side-effects). Mathematical functions are a good example. `sin(0)` is always `0`, and nothing squirrely is happening behind the scenes (like writing the output to a file, or emailing your professor to shame you for having to calculate `sin(0)` on a computer).\n",
    "\n",
    "Pure functional code has many nice properties. For parallel / distributed workloads, you only have to replicate the function inputs on your worker nodes (rather than the entire program state, or even the entire computer state).\n",
    "\n",
    "Another nice property is that pure functions are trivially **memoized**, or cached. This means you can replace a function call with a lookup from some stored outputs without changing the meaning of the program, so long as the inputs to that function are present among the stored outputs.\n",
    "\n",
    "Let's look at `sin(x)`, for example."
   ]
  },
  {
   "cell_type": "code",
   "execution_count": 3,
   "metadata": {},
   "outputs": [
    {
     "name": "stdout",
     "output_type": "stream",
     "text": [
      "sin(x)\n",
      "\n",
      "Return the sine of x (measured in radians).\n"
     ]
    }
   ],
   "source": [
    "from math import sin\n",
    "print(sin.__doc__)"
   ]
  },
  {
   "cell_type": "markdown",
   "metadata": {},
   "source": [
    "The `sin(x)` function is pretty fast, since a lot of effort has gone into optimizing it:"
   ]
  },
  {
   "cell_type": "code",
   "execution_count": 4,
   "metadata": {},
   "outputs": [
    {
     "name": "stdout",
     "output_type": "stream",
     "text": [
      "103 ns ± 4.92 ns per loop (mean ± std. dev. of 7 runs, 10000000 loops each)\n"
     ]
    }
   ],
   "source": [
    "%timeit sin(0.1)"
   ]
  },
  {
   "cell_type": "markdown",
   "metadata": {},
   "source": [
    "Suppose it's the 16th century and `sin(0.1)` takes unreasonably long to compute on the fly. We'll emulate this by defining `sine(x)` (since we hate abbreviations) and inserting a delay."
   ]
  },
  {
   "cell_type": "code",
   "execution_count": 5,
   "metadata": {
    "collapsed": true
   },
   "outputs": [],
   "source": [
    "import time\n",
    "def sine(x):\n",
    "    time.sleep(0.2)\n",
    "    return sin(x)"
   ]
  },
  {
   "cell_type": "code",
   "execution_count": 6,
   "metadata": {},
   "outputs": [
    {
     "name": "stdout",
     "output_type": "stream",
     "text": [
      "205 ms ± 16.9 µs per loop (mean ± std. dev. of 7 runs, 1 loop each)\n"
     ]
    }
   ],
   "source": [
    "%timeit sine(0.1)"
   ]
  },
  {
   "cell_type": "markdown",
   "metadata": {},
   "source": [
    "How slow.\n",
    "\n",
    "Well, if we know we're using `sin(0.1)` a lot, we can just store its value in a variable. Variable access is so fast it's practically instant, compared to calling that function."
   ]
  },
  {
   "cell_type": "code",
   "execution_count": 7,
   "metadata": {
    "collapsed": true
   },
   "outputs": [],
   "source": [
    "sine_one_tenth = sine(0.1)"
   ]
  },
  {
   "cell_type": "markdown",
   "metadata": {},
   "source": [
    "But then you have to remember whether to call the function or use the variable. What if we just hid that detail away?"
   ]
  },
  {
   "cell_type": "code",
   "execution_count": 8,
   "metadata": {
    "collapsed": true
   },
   "outputs": [],
   "source": [
    "def new_sine(x):\n",
    "    if x == 0.1:\n",
    "        return sine_one_tenth\n",
    "    else:\n",
    "        return sine(x)"
   ]
  },
  {
   "cell_type": "code",
   "execution_count": 9,
   "metadata": {},
   "outputs": [
    {
     "name": "stdout",
     "output_type": "stream",
     "text": [
      "185 ns ± 16.2 ns per loop (mean ± std. dev. of 7 runs, 10000000 loops each)\n"
     ]
    }
   ],
   "source": [
    "%timeit new_sine(0.1)"
   ]
  },
  {
   "cell_type": "markdown",
   "metadata": {},
   "source": [
    "Note that our new function still calls `sine(x)` for arguments that we don't have cached (that is, anything but `0.1`). They will be much slower to compute, as expected:"
   ]
  },
  {
   "cell_type": "code",
   "execution_count": 10,
   "metadata": {},
   "outputs": [
    {
     "name": "stdout",
     "output_type": "stream",
     "text": [
      "203 ms ± 1.95 ms per loop (mean ± std. dev. of 7 runs, 1 loop each)\n"
     ]
    }
   ],
   "source": [
    "%timeit new_sine(0.2)"
   ]
  },
  {
   "cell_type": "markdown",
   "metadata": {},
   "source": [
    "Suppose we wanted to support more than just `sin(0.1)` on the \"fast path\".\n",
    "\n",
    "We can set up a dictionary so that, when there's a value we haven't seen before, we call `sin(x)` and store the output in the dictionary."
   ]
  },
  {
   "cell_type": "code",
   "execution_count": 11,
   "metadata": {
    "collapsed": true
   },
   "outputs": [],
   "source": [
    "_previously_seen_arguments = {}\n",
    "def new_sine(x):\n",
    "    if x not in _previously_seen_arguments:\n",
    "        _previously_seen_arguments[x] = sine(x)\n",
    "    return _previously_seen_arguments[x]"
   ]
  },
  {
   "cell_type": "code",
   "execution_count": 12,
   "metadata": {},
   "outputs": [
    {
     "name": "stdout",
     "output_type": "stream",
     "text": [
      "2.44 µs ± 1.16 µs per loop (mean ± std. dev. of 7 runs, 1 loop each)\n"
     ]
    }
   ],
   "source": [
    "%timeit new_sine(0.1)"
   ]
  },
  {
   "cell_type": "code",
   "execution_count": 13,
   "metadata": {},
   "outputs": [
    {
     "name": "stdout",
     "output_type": "stream",
     "text": [
      "The slowest run took 5.57 times longer than the fastest. This could mean that an intermediate result is being cached.\n",
      "2.39 µs ± 2.2 µs per loop (mean ± std. dev. of 7 runs, 1 loop each)\n"
     ]
    }
   ],
   "source": [
    "%timeit new_sine(0.2)"
   ]
  },
  {
   "cell_type": "markdown",
   "metadata": {},
   "source": [
    "For the sake of demonstration, I slowed the `sin(x)` function down orders of magnitude. Otherwise, our piddly Python caching wrapper would be way slower than just calling `sin(x)` every time.\n",
    "\n",
    "There's a lesson in there: **You will only want to cache outputs when a function takes so long to run that it's worth the overhead.**\n",
    "\n",
    "You'll develop an intuition for things that are likely to be slow (e.g. repeatedly hitting the disk or network for data) vs. fast (e.g. arithmetic and optimized mathematical functions). There's also `%timeit`, as well as a whole set of tools to find the bottlenecks in your code (the art of which is called \"profiling\")."
   ]
  },
  {
   "cell_type": "markdown",
   "metadata": {},
   "source": [
    "# What does any of this have to do with `joblib`?\n",
    "\n",
    "The great thing about `joblib` is that it has a general-case solution to the \"building a `_previously_seen_arguments` dictionary\" problem.\n",
    "\n",
    "(The Python standard library has one too, but it's poorly suited for scientific applications.)"
   ]
  },
  {
   "cell_type": "code",
   "execution_count": 63,
   "metadata": {
    "collapsed": true
   },
   "outputs": [],
   "source": [
    "from joblib import Memory\n",
    "cachedir = 'cache'\n",
    "memory = Memory(cachedir=cachedir)"
   ]
  },
  {
   "cell_type": "markdown",
   "metadata": {},
   "source": [
    "The `memory` object we just created is our reference to the `joblib` machinery we initialized to save ourselves from rewriting variations on that last function over and over again.\n",
    "\n",
    "Let's see what `new_sine()` looks like, `joblib` style:"
   ]
  },
  {
   "cell_type": "code",
   "execution_count": 64,
   "metadata": {
    "collapsed": true
   },
   "outputs": [],
   "source": [
    "@memory.cache\n",
    "def new_sine2(x):\n",
    "    return sine(x)"
   ]
  },
  {
   "cell_type": "code",
   "execution_count": 65,
   "metadata": {},
   "outputs": [
    {
     "name": "stdout",
     "output_type": "stream",
     "text": [
      "799 µs ± 44.5 µs per loop (mean ± std. dev. of 7 runs, 1000 loops each)\n"
     ]
    }
   ],
   "source": [
    "%timeit new_sine2(0.1)"
   ]
  },
  {
   "cell_type": "code",
   "execution_count": 66,
   "metadata": {},
   "outputs": [
    {
     "name": "stdout",
     "output_type": "stream",
     "text": [
      "929 µs ± 42.9 µs per loop (mean ± std. dev. of 7 runs, 1000 loops each)\n"
     ]
    }
   ],
   "source": [
    "%timeit new_sine2(0.2)"
   ]
  },
  {
   "cell_type": "markdown",
   "metadata": {},
   "source": [
    "Note that the overhead is much _greater_ compared to the simplistic Python implementation I wrote, but _still_ orders of magnitude faster than `sine(x)`."
   ]
  },
  {
   "cell_type": "markdown",
   "metadata": {},
   "source": [
    "### Aside: decorators\n",
    "\n",
    "If you've never seen it before, that `@memory.cache` line may seem to be magic. For most cases, you can think of it that way, but it may occasionally help you to know what it actually _means_.\n",
    "\n",
    "That notation is called a \"function decorator\" or just a \"decorator\". You could say that you are \"decorating\" `new_sine()`, or that `memory.cache` is a \"decorator\" that is being applied to `new_sine`.\n",
    "\n",
    "We could equivalently write:"
   ]
  },
  {
   "cell_type": "code",
   "execution_count": 73,
   "metadata": {
    "collapsed": true
   },
   "outputs": [],
   "source": [
    "def new_sine2(x):\n",
    "    return sine(x)\n",
    "\n",
    "new_sine2 = memory.cache(new_sine2)"
   ]
  },
  {
   "cell_type": "code",
   "execution_count": 74,
   "metadata": {},
   "outputs": [
    {
     "name": "stderr",
     "output_type": "stream",
     "text": [
      "WARNING:root:[MemorizedFunc(func=<function new_sine2 at 0x10f8f0ea0>, cachedir='cache/joblib')]: Clearing cache cache/joblib/__main__--Users-jdl-Dropbox-software-code-coffee-downloads-2017-18-__ipython-input__/new_sine2\n"
     ]
    },
    {
     "name": "stdout",
     "output_type": "stream",
     "text": [
      "________________________________________________________________________________\n",
      "[Memory] Calling __main__--Users-jdl-Dropbox-software-code-coffee-downloads-2017-18-__ipython-input__.new_sine2...\n",
      "new_sine2(0.1)\n",
      "________________________________________________________new_sine2 - 0.2s, 0.0min\n",
      "1.01 ms ± 333 µs per loop (mean ± std. dev. of 7 runs, 1 loop each)\n"
     ]
    }
   ],
   "source": [
    "%timeit new_sine2(0.1)"
   ]
  },
  {
   "cell_type": "code",
   "execution_count": 75,
   "metadata": {},
   "outputs": [
    {
     "name": "stdout",
     "output_type": "stream",
     "text": [
      "________________________________________________________________________________\n",
      "[Memory] Calling __main__--Users-jdl-Dropbox-software-code-coffee-downloads-2017-18-__ipython-input__.new_sine2...\n",
      "new_sine2(0.2)\n",
      "________________________________________________________new_sine2 - 0.2s, 0.0min\n",
      "937 µs ± 400 µs per loop (mean ± std. dev. of 7 runs, 1 loop each)\n"
     ]
    }
   ],
   "source": [
    "%timeit new_sine2(0.2)"
   ]
  },
  {
   "cell_type": "markdown",
   "metadata": {},
   "source": [
    "So, `memory.cache` is a function, that's being passed a function... and returning a function! At the end of this cell, the `new_sine` variable holds a function that, when called:\n",
    "\n",
    "* Checks if the arguments supplied match any its seen before\n",
    "* If yes, loads the resulting value and returns it\n",
    "* If no, calls the original `new_sine` function, adds the arguments and return value to the list of inputs and outputs its seen, and returns the value\n",
    "\n",
    "The `joblib` machinery takes care of a lot of fiddly details for us. Let's peek into `cachedir`, which we passed in when we initialized the `memory` instance:"
   ]
  },
  {
   "cell_type": "code",
   "execution_count": 76,
   "metadata": {},
   "outputs": [
    {
     "name": "stdout",
     "output_type": "stream",
     "text": [
      "\u001b[34mjoblib\u001b[m\u001b[m/\r\n"
     ]
    }
   ],
   "source": [
    "ls $cachedir/"
   ]
  },
  {
   "cell_type": "markdown",
   "metadata": {},
   "source": [
    "Hm, just a `joblib` folder... wonder what's in there.\n",
    "\n",
    "(The `$cachedir` notation is IPython-specific: it means \"substitute this Python variable from the current session into my shell command.\")"
   ]
  },
  {
   "cell_type": "code",
   "execution_count": 77,
   "metadata": {},
   "outputs": [
    {
     "name": "stdout",
     "output_type": "stream",
     "text": [
      "\u001b[34m__main__--Users-jdl-Dropbox-software-code-coffee-downloads-2017-18-__ipython-input__\u001b[m\u001b[m/\r\n",
      "\u001b[34mcacheable_functions\u001b[m\u001b[m/\r\n",
      "\u001b[34mpipeline\u001b[m\u001b[m/\r\n"
     ]
    }
   ],
   "source": [
    "ls $cachedir/joblib/"
   ]
  },
  {
   "cell_type": "markdown",
   "metadata": {},
   "source": [
    "That's the full path to the code (or would be, if it were in a separate file rather than a notebook cell). So, functions with the same name in different files won't interfere with each other in the cache."
   ]
  },
  {
   "cell_type": "code",
   "execution_count": 78,
   "metadata": {},
   "outputs": [
    {
     "name": "stdout",
     "output_type": "stream",
     "text": [
      "\u001b[34mnew_sine\u001b[m\u001b[m/  \u001b[34mnew_sine2\u001b[m\u001b[m/\r\n"
     ]
    }
   ],
   "source": [
    "ls $cachedir/joblib/__main__--*/"
   ]
  },
  {
   "cell_type": "code",
   "execution_count": 79,
   "metadata": {},
   "outputs": [
    {
     "name": "stdout",
     "output_type": "stream",
     "text": [
      "\u001b[34m7d6f6f8bfe705c3506326eae7f01d8a7\u001b[m\u001b[m/ func_code.py\r\n",
      "\u001b[34mf48084a3ed562f85c12b64c439485607\u001b[m\u001b[m/\r\n"
     ]
    }
   ],
   "source": [
    "ls $cachedir/joblib/__main__--*/new_sine2/"
   ]
  },
  {
   "cell_type": "code",
   "execution_count": 80,
   "metadata": {},
   "outputs": [
    {
     "name": "stdout",
     "output_type": "stream",
     "text": [
      "metadata.json  output.pkl\r\n"
     ]
    }
   ],
   "source": [
    "ls $cachedir/joblib/__main__--*/new_sine2/f48084a3ed562f85c12b64c439485607"
   ]
  },
  {
   "cell_type": "code",
   "execution_count": 81,
   "metadata": {},
   "outputs": [
    {
     "name": "stdout",
     "output_type": "stream",
     "text": [
      "{\"duration\": 0.21219372749328613, \"input_args\": {\"x\": \"0.1\"}}"
     ]
    }
   ],
   "source": [
    "cat $cachedir/joblib/__main__--*/new_sine2/f48084a3ed562f85c12b64c439485607/metadata.json"
   ]
  },
  {
   "cell_type": "code",
   "execution_count": 82,
   "metadata": {},
   "outputs": [
    {
     "name": "stdout",
     "output_type": "stream",
     "text": [
      "# first line: 1\r\n",
      "def new_sine2(x):\r\n",
      "    return sine(x)\r\n"
     ]
    }
   ],
   "source": [
    "cat $cachedir/joblib/__main__--*/new_sine2/func_code.py"
   ]
  },
  {
   "cell_type": "markdown",
   "metadata": {},
   "source": [
    "Hey, there's the exact code we decorated! And there's a couple of folders with weird hex string names. That's the [hash](https://en.wikipedia.org/wiki/Hash_function) of the function arguments, which joblib uses to find where it saved the cached output. (This is just like using the arguments as a dictionary key, but more general.)\n",
    "\n",
    "The function code is saved in order to tell when the function body (`def new_sine2(x): [...]`) changes. This ensures you don't see a mix of new and stale results when you update the definition of your function.\n",
    "\n",
    "The `joblib` wrapper handles a bunch of stuff I didn't include in my demo version of a function cache:\n",
    "\n",
    "  * Wrapping functions with multiple arguments\n",
    "  * Persisting the cache to disk so it remains after you close and restart Python\n",
    "  * Clearing the cache if the function body changes\n",
    "  * Converting NumPy arrays to a hashable representation\n",
    "\n",
    "Basically, it's the general case solution to caching outputs of slow functions. As promised."
   ]
  },
  {
   "cell_type": "markdown",
   "metadata": {},
   "source": [
    "# Important caveats\n",
    "\n",
    "The ability of `joblib` to tell when two functions are the same (and whether it should reuse cached outputs) is compromised by defining functions in notebooks. You can still _run_ the functions in a notebook, but for best cache usage I always place functions that I am \"done\" writing (at least temporarily) in an external Python module like `pipeline.py`.\n",
    "\n",
    "Let's see what the cache looks like for that case, using the [`%%writefile` magic](http://ipython.readthedocs.io/en/stable/interactive/magics.html#cellmagic-writefile) to make a `pipeline.py`:"
   ]
  },
  {
   "cell_type": "code",
   "execution_count": 59,
   "metadata": {},
   "outputs": [
    {
     "name": "stdout",
     "output_type": "stream",
     "text": [
      "Overwriting pipeline.py\n"
     ]
    }
   ],
   "source": [
    "%%writefile pipeline.py\n",
    "import joblib\n",
    "import time\n",
    "from math import sin\n",
    "\n",
    "memory = joblib.Memory(cachedir='./cache')\n",
    "\n",
    "@memory.cache\n",
    "def slow_sine(x):\n",
    "    time.sleep(0.2)\n",
    "    return sin(x)\n",
    "\n",
    "@memory.cache\n",
    "def foo(x):\n",
    "    return x + 1"
   ]
  },
  {
   "cell_type": "code",
   "execution_count": 60,
   "metadata": {},
   "outputs": [],
   "source": [
    "from pipeline import slow_sine"
   ]
  },
  {
   "cell_type": "code",
   "execution_count": 61,
   "metadata": {},
   "outputs": [
    {
     "data": {
      "text/plain": [
       "0.09983341664682815"
      ]
     },
     "execution_count": 61,
     "metadata": {},
     "output_type": "execute_result"
    }
   ],
   "source": [
    "slow_sine(0.1)"
   ]
  },
  {
   "cell_type": "code",
   "execution_count": 62,
   "metadata": {},
   "outputs": [
    {
     "name": "stdout",
     "output_type": "stream",
     "text": [
      "\u001b[34m__main__--Users-jdl-Dropbox-software-code-coffee-downloads-2017-18-__ipython-input__\u001b[m\u001b[m/\r\n",
      "\u001b[34mcacheable_functions\u001b[m\u001b[m/\r\n",
      "\u001b[34mpipeline\u001b[m\u001b[m/\r\n"
     ]
    }
   ],
   "source": [
    "ls $cachedir/joblib/"
   ]
  },
  {
   "cell_type": "markdown",
   "metadata": {},
   "source": [
    "The `pipeline/` folder has cache outputs for all the functions defined in the `pipeline` module. (Much nicer than the complicated `__ipython-input__` naming for functions defined in a notebook.)"
   ]
  },
  {
   "cell_type": "code",
   "execution_count": 83,
   "metadata": {},
   "outputs": [
    {
     "name": "stdout",
     "output_type": "stream",
     "text": [
      "\u001b[34mf48084a3ed562f85c12b64c439485607\u001b[m\u001b[m/ func_code.py\r\n"
     ]
    }
   ],
   "source": [
    "ls $cachedir/joblib/pipeline/slow_sine/"
   ]
  },
  {
   "cell_type": "markdown",
   "metadata": {},
   "source": [
    "Another important caveat is that the cache size can grow unbounded. The `bytes_limit=` argument to `Memory()` can be used to limit the total size of the cache; when the total size of the fies in cache approaches the limit, the least-recently used outputs are deleted to keep the cache directory under a certain size."
   ]
  },
  {
   "cell_type": "markdown",
   "metadata": {},
   "source": [
    "# When would I need this in astronomy?\n",
    "\n",
    "I came across this functionality when I was doing some exploratory analysis with machine learning. It would take minutes to recompute when I tweaked some input parameter, and I was pretty frequently adjusting a parameter only to ultimately put it back... and have to recompute a slow function that I had definitely already computed.\n",
    "\n",
    "I ended up splitting my code into a function that did the decomposition I wanted, and a few lines to plot the result. The function, I decorated with `memory.cache`. Then, I only redid the computation when I actually needed to."
   ]
  }
 ],
 "metadata": {
  "kernelspec": {
   "display_name": "Python 3",
   "language": "python",
   "name": "python3"
  },
  "language_info": {
   "codemirror_mode": {
    "name": "ipython",
    "version": 3
   },
   "file_extension": ".py",
   "mimetype": "text/x-python",
   "name": "python",
   "nbconvert_exporter": "python",
   "pygments_lexer": "ipython3",
   "version": "3.6.2"
  }
 },
 "nbformat": 4,
 "nbformat_minor": 2
}
